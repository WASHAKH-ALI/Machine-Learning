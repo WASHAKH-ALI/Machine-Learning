{
 "cells": [
  {
   "cell_type": "markdown",
   "id": "0fc38c60",
   "metadata": {
    "papermill": {
     "duration": 0.003744,
     "end_time": "2022-09-24T06:20:38.240008",
     "exception": false,
     "start_time": "2022-09-24T06:20:38.236264",
     "status": "completed"
    },
    "tags": []
   },
   "source": [
    "**This notebook is an exercise in the [Introduction to Machine Learning](https://www.kaggle.com/learn/intro-to-machine-learning) course.  You can reference the tutorial at [this link](https://www.kaggle.com/dansbecker/random-forests).**\n",
    "\n",
    "---\n"
   ]
  },
  {
   "cell_type": "markdown",
   "id": "2dec173b",
   "metadata": {
    "papermill": {
     "duration": 0.002417,
     "end_time": "2022-09-24T06:20:38.245410",
     "exception": false,
     "start_time": "2022-09-24T06:20:38.242993",
     "status": "completed"
    },
    "tags": []
   },
   "source": [
    "## Recap\n",
    "Here's the code you've written so far."
   ]
  },
  {
   "cell_type": "code",
   "execution_count": 1,
   "id": "094e4ba7",
   "metadata": {
    "execution": {
     "iopub.execute_input": "2022-09-24T06:20:38.253256Z",
     "iopub.status.busy": "2022-09-24T06:20:38.252616Z",
     "iopub.status.idle": "2022-09-24T06:20:39.645195Z",
     "shell.execute_reply": "2022-09-24T06:20:39.643833Z"
    },
    "papermill": {
     "duration": 1.399941,
     "end_time": "2022-09-24T06:20:39.648033",
     "exception": false,
     "start_time": "2022-09-24T06:20:38.248092",
     "status": "completed"
    },
    "tags": []
   },
   "outputs": [
    {
     "name": "stdout",
     "output_type": "stream",
     "text": [
      "Validation MAE when not specifying max_leaf_nodes: 29,653\n",
      "Validation MAE for best value of max_leaf_nodes: 27,283\n",
      "\n",
      "Setup complete\n"
     ]
    }
   ],
   "source": [
    "# Code you have previously used to load data\n",
    "import pandas as pd\n",
    "from sklearn.metrics import mean_absolute_error\n",
    "from sklearn.model_selection import train_test_split\n",
    "from sklearn.tree import DecisionTreeRegressor\n",
    "\n",
    "\n",
    "# Path of the file to read\n",
    "iowa_file_path = '../input/home-data-for-ml-course/train.csv'\n",
    "\n",
    "home_data = pd.read_csv(iowa_file_path)\n",
    "# Create target object and call it y\n",
    "y = home_data.SalePrice\n",
    "# Create X\n",
    "features = ['LotArea', 'YearBuilt', '1stFlrSF', '2ndFlrSF', 'FullBath', 'BedroomAbvGr', 'TotRmsAbvGrd']\n",
    "X = home_data[features]\n",
    "\n",
    "# Split into validation and training data\n",
    "train_X, val_X, train_y, val_y = train_test_split(X, y, random_state=1)\n",
    "\n",
    "# Specify Model\n",
    "iowa_model = DecisionTreeRegressor(random_state=1)\n",
    "# Fit Model\n",
    "iowa_model.fit(train_X, train_y)\n",
    "\n",
    "# Make validation predictions and calculate mean absolute error\n",
    "val_predictions = iowa_model.predict(val_X)\n",
    "val_mae = mean_absolute_error(val_predictions, val_y)\n",
    "print(\"Validation MAE when not specifying max_leaf_nodes: {:,.0f}\".format(val_mae))\n",
    "\n",
    "# Using best value for max_leaf_nodes\n",
    "iowa_model = DecisionTreeRegressor(max_leaf_nodes=100, random_state=1)\n",
    "iowa_model.fit(train_X, train_y)\n",
    "val_predictions = iowa_model.predict(val_X)\n",
    "val_mae = mean_absolute_error(val_predictions, val_y)\n",
    "print(\"Validation MAE for best value of max_leaf_nodes: {:,.0f}\".format(val_mae))\n",
    "\n",
    "\n",
    "# Set up code checking\n",
    "from learntools.core import binder\n",
    "binder.bind(globals())\n",
    "from learntools.machine_learning.ex6 import *\n",
    "print(\"\\nSetup complete\")"
   ]
  },
  {
   "cell_type": "markdown",
   "id": "8dafd786",
   "metadata": {
    "papermill": {
     "duration": 0.002838,
     "end_time": "2022-09-24T06:20:39.653834",
     "exception": false,
     "start_time": "2022-09-24T06:20:39.650996",
     "status": "completed"
    },
    "tags": []
   },
   "source": [
    "# Exercises\n",
    "Data science isn't always this easy. But replacing the decision tree with a Random Forest is going to be an easy win."
   ]
  },
  {
   "cell_type": "markdown",
   "id": "f4c0f1f7",
   "metadata": {
    "papermill": {
     "duration": 0.002551,
     "end_time": "2022-09-24T06:20:39.659232",
     "exception": false,
     "start_time": "2022-09-24T06:20:39.656681",
     "status": "completed"
    },
    "tags": []
   },
   "source": [
    "## Step 1: Use a Random Forest"
   ]
  },
  {
   "cell_type": "code",
   "execution_count": 2,
   "id": "42d51753",
   "metadata": {
    "execution": {
     "iopub.execute_input": "2022-09-24T06:20:39.667537Z",
     "iopub.status.busy": "2022-09-24T06:20:39.666842Z",
     "iopub.status.idle": "2022-09-24T06:20:40.200330Z",
     "shell.execute_reply": "2022-09-24T06:20:40.198962Z"
    },
    "papermill": {
     "duration": 0.541066,
     "end_time": "2022-09-24T06:20:40.203168",
     "exception": false,
     "start_time": "2022-09-24T06:20:39.662102",
     "status": "completed"
    },
    "tags": []
   },
   "outputs": [
    {
     "name": "stdout",
     "output_type": "stream",
     "text": [
      "Validation MAE for Random Forest Model: 21857.15912981083\n"
     ]
    },
    {
     "data": {
      "application/javascript": [
       "parent.postMessage({\"jupyterEvent\": \"custom.exercise_interaction\", \"data\": {\"outcomeType\": 1, \"valueTowardsCompletion\": 1.0, \"interactionType\": 1, \"questionType\": 2, \"questionId\": \"1_CheckRfScore\", \"learnToolsVersion\": \"0.3.4\", \"failureMessage\": \"\", \"exceptionClass\": \"\", \"trace\": \"\"}}, \"*\")"
      ],
      "text/plain": [
       "<IPython.core.display.Javascript object>"
      ]
     },
     "metadata": {},
     "output_type": "display_data"
    },
    {
     "data": {
      "text/markdown": [
       "<span style=\"color:#33cc33\">Correct</span>"
      ],
      "text/plain": [
       "Correct"
      ]
     },
     "metadata": {},
     "output_type": "display_data"
    }
   ],
   "source": [
    "from sklearn.ensemble import RandomForestRegressor\n",
    "\n",
    "# Define the model. Set random_state to 1\n",
    "rf_model = RandomForestRegressor(random_state=1)\n",
    "# fit your model\n",
    "rf_model.fit(train_X, train_y)\n",
    "\n",
    "# Calculate the mean absolute error of your Random Forest model on the validation data\n",
    "\n",
    "rf_preds = rf_model.predict(val_X)\n",
    "rf_val_mae = mean_absolute_error(val_y, rf_preds)\n",
    "\n",
    "print(\"Validation MAE for Random Forest Model: {}\".format(rf_val_mae))\n",
    "\n",
    "# Check your answer\n",
    "step_1.check()"
   ]
  },
  {
   "cell_type": "code",
   "execution_count": 3,
   "id": "bbce0978",
   "metadata": {
    "execution": {
     "iopub.execute_input": "2022-09-24T06:20:40.212651Z",
     "iopub.status.busy": "2022-09-24T06:20:40.212204Z",
     "iopub.status.idle": "2022-09-24T06:20:40.217195Z",
     "shell.execute_reply": "2022-09-24T06:20:40.215927Z"
    },
    "papermill": {
     "duration": 0.012576,
     "end_time": "2022-09-24T06:20:40.219761",
     "exception": false,
     "start_time": "2022-09-24T06:20:40.207185",
     "status": "completed"
    },
    "tags": []
   },
   "outputs": [],
   "source": [
    "# The lines below will show you a hint or the solution.\n",
    "# step_1.hint() \n",
    "# step_1.solution()\n"
   ]
  },
  {
   "cell_type": "markdown",
   "id": "92f16e95",
   "metadata": {
    "papermill": {
     "duration": 0.003667,
     "end_time": "2022-09-24T06:20:40.227033",
     "exception": false,
     "start_time": "2022-09-24T06:20:40.223366",
     "status": "completed"
    },
    "tags": []
   },
   "source": [
    "So far, you have followed specific instructions at each step of your project. This helped learn key ideas and build your first model, but now you know enough to try things on your own. \n",
    "\n",
    "Machine Learning competitions are a great way to try your own ideas and learn more as you independently navigate a machine learning project. \n",
    "\n",
    "# Keep Going\n",
    "\n",
    "You are ready for **[Machine Learning Competitions](https://www.kaggle.com/alexisbcook/machine-learning-competitions).**\n"
   ]
  },
  {
   "cell_type": "markdown",
   "id": "8585f2e1",
   "metadata": {
    "papermill": {
     "duration": 0.002946,
     "end_time": "2022-09-24T06:20:40.233325",
     "exception": false,
     "start_time": "2022-09-24T06:20:40.230379",
     "status": "completed"
    },
    "tags": []
   },
   "source": [
    "---\n",
    "\n",
    "\n",
    "\n",
    "\n",
    "*Have questions or comments? Visit the [course discussion forum](https://www.kaggle.com/learn/intro-to-machine-learning/discussion) to chat with other learners.*"
   ]
  }
 ],
 "metadata": {
  "kernelspec": {
   "display_name": "Python 3",
   "language": "python",
   "name": "python3"
  },
  "language_info": {
   "codemirror_mode": {
    "name": "ipython",
    "version": 3
   },
   "file_extension": ".py",
   "mimetype": "text/x-python",
   "name": "python",
   "nbconvert_exporter": "python",
   "pygments_lexer": "ipython3",
   "version": "3.7.12"
  },
  "papermill": {
   "default_parameters": {},
   "duration": 13.472882,
   "end_time": "2022-09-24T06:20:41.061083",
   "environment_variables": {},
   "exception": null,
   "input_path": "__notebook__.ipynb",
   "output_path": "__notebook__.ipynb",
   "parameters": {},
   "start_time": "2022-09-24T06:20:27.588201",
   "version": "2.3.4"
  }
 },
 "nbformat": 4,
 "nbformat_minor": 5
}
